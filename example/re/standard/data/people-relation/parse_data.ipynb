{
 "cells": [
  {
   "cell_type": "code",
   "execution_count": 1,
   "metadata": {},
   "outputs": [],
   "source": [
    "import pandas as pd\n",
    "import os, json, time\n",
    "\n",
    "# get the path of three data\n",
    "cwd = os.getcwd()\n",
    "# only have train and val dataset\n",
    "train_path = os.path.join(cwd, 'train.txt')\n",
    "val_path = os.path.join(cwd, 'valid.txt')\n",
    "\n",
    "def convert_dataset(path: str):\n",
    "    \"\"\"\n",
    "    convert the people-relation style data into the DeepKE friendly style\n",
    "    :path: the path of the give txt file\n",
    "    \"\"\" \n",
    "\n",
    "    s_time = time.time()\n",
    "    # set the data frame with same column name as the example dataset\n",
    "    data = pd.DataFrame(columns = ['sentence', 'relation', 'head', 'head_offset', 'tail', 'tail_offset'])\n",
    "    # TODO: operate the file from multiple processes\n",
    "    # REF: https://stackoverflow.com/questions/11196367/processing-single-file-from-multiple-processes \n",
    "    with open(path, 'r', encoding = 'utf-8') as f:\n",
    "        for line in f:\n",
    "            # convert string to dict\n",
    "            line = json.loads(line)\n",
    "            # concate the tokens into string\n",
    "            line['sentence'] = ''.join(line['token'])\n",
    "            # remove the 'token' key-value pair\n",
    "            line.pop('token')\n",
    "            # shape the head and tail\n",
    "            line['head'] = line['h']['name']\n",
    "            line['head_offset'] = line['h']['pos'][0]\n",
    "            line.pop('h')\n",
    "            line['tail'] = line['t']['name']\n",
    "            line['tail_offset'] = line['t']['pos'][0]\n",
    "            line.pop('t')\n",
    "            # convert the dict to pd.DataFrame\n",
    "            line = pd.DataFrame.from_dict(line, orient='index').T\n",
    "            # append the line to data\n",
    "            data = pd.concat([data, line])\n",
    "    \n",
    "    cwd = os.getcwd()\n",
    "    file_name = path.split(os.sep)[-1].split('.')[0] + '.csv'\n",
    "    file_path = os.path.join(cwd, file_name)\n",
    "    data.to_csv(file_path, index = False, encoding = 'utf-8')\n",
    "\n",
    "    duration = round((time.time() - s_time)/60, 3)\n",
    "\n",
    "    print(f'{file_name} is completed, it costs {duration} minutes.')\n",
    "\n",
    "    return"
   ]
  },
  {
   "cell_type": "code",
   "execution_count": 2,
   "metadata": {},
   "outputs": [
    {
     "name": "stdout",
     "output_type": "stream",
     "text": [
      "valid.csv is completed, it costs 0.024 minutes.\n"
     ]
    }
   ],
   "source": [
    "convert_dataset(val_path)"
   ]
  },
  {
   "cell_type": "code",
   "execution_count": null,
   "metadata": {},
   "outputs": [],
   "source": [
    "convert_dataset(train_path)"
   ]
  }
 ],
 "metadata": {
  "interpreter": {
   "hash": "24ae7859e19c6c3f9566ca724d508fad34aee826cb5f07c22830f75813a565a1"
  },
  "kernelspec": {
   "display_name": "Python 3.6.13 ('opennre')",
   "language": "python",
   "name": "python3"
  },
  "language_info": {
   "codemirror_mode": {
    "name": "ipython",
    "version": 3
   },
   "file_extension": ".py",
   "mimetype": "text/x-python",
   "name": "python",
   "nbconvert_exporter": "python",
   "pygments_lexer": "ipython3",
   "version": "3.8.13"
  },
  "orig_nbformat": 4
 },
 "nbformat": 4,
 "nbformat_minor": 2
}
